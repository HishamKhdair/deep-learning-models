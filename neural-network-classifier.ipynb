{
 "cells": [
  {
   "cell_type": "code",
   "execution_count": 1,
   "metadata": {},
   "outputs": [],
   "source": [
    "import torch\n",
    "from torch import nn\n",
    "import torchvision\n",
    "from torchvision import transforms, datasets\n",
    "from torch.utils.data import Dataset, DataLoader\n",
    "import numpy as np\n",
    "import matplotlib.pyplot as plt"
   ]
  },
  {
   "cell_type": "code",
   "execution_count": 2,
   "metadata": {},
   "outputs": [],
   "source": [
    "train_ds = datasets.FashionMNIST(\n",
    "    './data', \n",
    "    train=True, \n",
    "    download=True, \n",
    "    transform=transforms.ToTensor()\n",
    "    )\n",
    "    \n",
    "test_ds = datasets.FashionMNIST(\n",
    "    './data', \n",
    "    train=False, \n",
    "    download=True, \n",
    "    transform=transforms.ToTensor())"
   ]
  },
  {
   "cell_type": "code",
   "execution_count": 3,
   "metadata": {},
   "outputs": [],
   "source": [
    "batch_size = 64\n",
    "\n",
    "train_dl = DataLoader(\n",
    "    train_ds,\n",
    "    batch_size = batch_size,\n",
    "    shuffle=True\n",
    ")\n",
    "\n",
    "test_dl = DataLoader(\n",
    "    test_ds,\n",
    "    batch_size = batch_size,\n",
    ")"
   ]
  },
  {
   "cell_type": "code",
   "execution_count": 4,
   "metadata": {},
   "outputs": [],
   "source": [
    "class NN(nn.Module):\n",
    "    def __init__(self):\n",
    "        super(NN, self).__init__()\n",
    "        # self.flatten = nn.Flatten(),\n",
    "        # self.l1 = nn.Linear(28 * 28, 512),\n",
    "        # self.relu = nn.ReLU(),\n",
    "        # self.l2 = nn.Linear(512,512),\n",
    "        # self.l3= nn.Linear(512,10)\n",
    "        self.linear_relu_stack = nn.Sequential(\n",
    "            nn.Linear(28*28, 512),\n",
    "            nn.ReLU(),\n",
    "            nn.Linear(512, 512),\n",
    "            nn.ReLU(),\n",
    "            nn.Linear(512, 10)\n",
    "        )\n",
    "\n",
    "    def forward(self, x):\n",
    "        # x = self.flatten(x)\n",
    "        # x1 = x.view(-1, 28*28)\n",
    "        # out1 = self.relu(self.l1(x1))\n",
    "        # out2 = self.relu(self.l2(out1))\n",
    "        # out3 = self.l3(out2)\n",
    "        # return out3\n",
    "        x = x.view(-1, 28*28)\n",
    "        x = self.linear_relu_stack(x)\n",
    "        return x"
   ]
  },
  {
   "cell_type": "code",
   "execution_count": 5,
   "metadata": {},
   "outputs": [
    {
     "data": {
      "text/plain": [
       "'cuda'"
      ]
     },
     "execution_count": 5,
     "metadata": {},
     "output_type": "execute_result"
    }
   ],
   "source": [
    "device = \"cuda\" if torch.cuda.is_available() else \"cpu\"\n",
    "device"
   ]
  },
  {
   "cell_type": "code",
   "execution_count": 6,
   "metadata": {},
   "outputs": [
    {
     "data": {
      "text/plain": [
       "NN(\n",
       "  (linear_relu_stack): Sequential(\n",
       "    (0): Linear(in_features=784, out_features=512, bias=True)\n",
       "    (1): ReLU()\n",
       "    (2): Linear(in_features=512, out_features=512, bias=True)\n",
       "    (3): ReLU()\n",
       "    (4): Linear(in_features=512, out_features=10, bias=True)\n",
       "  )\n",
       ")"
      ]
     },
     "execution_count": 6,
     "metadata": {},
     "output_type": "execute_result"
    }
   ],
   "source": [
    "model = NN().to(device)\n",
    "model"
   ]
  },
  {
   "cell_type": "code",
   "execution_count": 7,
   "metadata": {},
   "outputs": [],
   "source": [
    "loss_fn = nn.CrossEntropyLoss()\n",
    "optimizer = torch.optim.SGD(model.parameters(), lr=0.001)"
   ]
  },
  {
   "cell_type": "code",
   "execution_count": 8,
   "metadata": {},
   "outputs": [
    {
     "name": "stdout",
     "output_type": "stream",
     "text": [
      "Epoch no :1, step no 200, loss is: 2.2952\n",
      "Epoch no :1, step no 400, loss is: 2.2641\n",
      "Epoch no :1, step no 600, loss is: 2.2388\n",
      "Epoch no :1, step no 800, loss is: 2.2030\n",
      "Epoch no :2, step no 200, loss is: 2.1591\n",
      "Epoch no :2, step no 400, loss is: 2.1009\n",
      "Epoch no :2, step no 600, loss is: 2.0119\n",
      "Epoch no :2, step no 800, loss is: 1.9982\n",
      "Epoch no :3, step no 200, loss is: 1.8866\n",
      "Epoch no :3, step no 400, loss is: 1.7847\n",
      "Epoch no :3, step no 600, loss is: 1.5818\n",
      "Epoch no :3, step no 800, loss is: 1.5210\n",
      "Epoch no :4, step no 200, loss is: 1.4872\n",
      "Epoch no :4, step no 400, loss is: 1.3255\n",
      "Epoch no :4, step no 600, loss is: 1.3065\n",
      "Epoch no :4, step no 800, loss is: 1.3051\n",
      "Epoch no :5, step no 200, loss is: 1.2359\n",
      "Epoch no :5, step no 400, loss is: 1.1630\n",
      "Epoch no :5, step no 600, loss is: 1.1217\n",
      "Epoch no :5, step no 800, loss is: 1.0989\n",
      "Epoch no :6, step no 200, loss is: 1.1131\n",
      "Epoch no :6, step no 400, loss is: 1.0207\n",
      "Epoch no :6, step no 600, loss is: 0.9519\n",
      "Epoch no :6, step no 800, loss is: 1.0461\n",
      "Epoch no :7, step no 200, loss is: 0.9705\n",
      "Epoch no :7, step no 400, loss is: 1.0523\n",
      "Epoch no :7, step no 600, loss is: 0.8455\n",
      "Epoch no :7, step no 800, loss is: 1.0685\n",
      "Epoch no :8, step no 200, loss is: 0.7629\n",
      "Epoch no :8, step no 400, loss is: 0.9800\n",
      "Epoch no :8, step no 600, loss is: 0.7829\n",
      "Epoch no :8, step no 800, loss is: 0.8450\n",
      "Epoch no :9, step no 200, loss is: 0.8343\n",
      "Epoch no :9, step no 400, loss is: 0.7831\n",
      "Epoch no :9, step no 600, loss is: 0.8212\n",
      "Epoch no :9, step no 800, loss is: 0.8053\n",
      "Epoch no :10, step no 200, loss is: 0.8504\n",
      "Epoch no :10, step no 400, loss is: 0.9663\n",
      "Epoch no :10, step no 600, loss is: 0.7624\n",
      "Epoch no :10, step no 800, loss is: 0.8481\n"
     ]
    }
   ],
   "source": [
    "epochs = 10\n",
    "\n",
    "model.train()\n",
    "for epoch in range(epochs):\n",
    "    \n",
    "    for batch, (images, labels) in enumerate(train_dl):\n",
    "        images, labels = images.to(device), labels.to(device)\n",
    "\n",
    "        # predict the batch of images and calculate the loss\n",
    "        pred = model(images)\n",
    "        loss = loss_fn(pred, labels)\n",
    "\n",
    "        # calculate the gradients and update the parameters (backpropogation)\n",
    "        optimizer.zero_grad()\n",
    "        loss.backward()\n",
    "        optimizer.step()\n",
    "\n",
    "        if (batch+1) % 200 == 0:\n",
    "            print(f\"Epoch no :{epoch+1}, step no {batch+1}, loss is: {loss.item():.4f}\")"
   ]
  },
  {
   "cell_type": "code",
   "execution_count": 9,
   "metadata": {},
   "outputs": [
    {
     "name": "stdout",
     "output_type": "stream",
     "text": [
      "The accuracy of the model is 71.02%\n"
     ]
    }
   ],
   "source": [
    "num_correct = 0\n",
    "no_samples = 0\n",
    "model.eval()\n",
    "\n",
    "with torch.no_grad():\n",
    "    for images, labels in test_dl:\n",
    "        images, labels =images.to(device), labels.to(device)\n",
    "\n",
    "        scores = model(images)\n",
    "        _, predictions = torch.max(scores, -1)\n",
    "        num_correct += (predictions == labels).sum().item()\n",
    "        no_samples += predictions.size(-1)\n",
    "\n",
    "    accuracy = 100 * num_correct / no_samples\n",
    "    print(f\"The accuracy of the model is {accuracy:.2f}%\")"
   ]
  },
  {
   "cell_type": "code",
   "execution_count": null,
   "metadata": {},
   "outputs": [],
   "source": []
  }
 ],
 "metadata": {
  "interpreter": {
   "hash": "ce634023834118f15d48f79317c3f100e391372f52bcbe8bd725895a0be9ccb4"
  },
  "kernelspec": {
   "display_name": "Python 3.8.0 ('pytorchenv')",
   "language": "python",
   "name": "python3"
  },
  "language_info": {
   "codemirror_mode": {
    "name": "ipython",
    "version": 3
   },
   "file_extension": ".py",
   "mimetype": "text/x-python",
   "name": "python",
   "nbconvert_exporter": "python",
   "pygments_lexer": "ipython3",
   "version": "3.8.0"
  },
  "orig_nbformat": 4
 },
 "nbformat": 4,
 "nbformat_minor": 2
}
